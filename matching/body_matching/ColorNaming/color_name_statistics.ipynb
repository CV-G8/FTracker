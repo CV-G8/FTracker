{
 "cells": [
  {
   "cell_type": "code",
   "execution_count": 2,
   "metadata": {},
   "outputs": [
    {
     "name": "stdout",
     "output_type": "stream",
     "text": [
      "/Users/ttnguyen/Documents/work/hades\n"
     ]
    }
   ],
   "source": [
    "import scipy.io\n",
    "import numpy as np\n",
    "import os.path as path\n",
    "import os\n",
    "import cv2\n",
    "import glob\n",
    "matrix = scipy.io.loadmat(\"w2c.mat\")['w2c']\n",
    "%cd ../../\n",
    "assert matrix.shape[0] == 32768"
   ]
  },
  {
   "cell_type": "code",
   "execution_count": 3,
   "metadata": {},
   "outputs": [],
   "source": [
    "def get_pixel_cn(pixel):\n",
    "    \"\"\"Return color name for a pixel (default BGR as in OpenCV).\"\"\"\n",
    "\n",
    "    BLUE = 0\n",
    "    GREEN = 1\n",
    "    RED = 2\n",
    "\n",
    "    k = (pixel[RED] // 8) + 32 * (pixel[GREEN] // 8) + 32 * 32 * (pixel[BLUE] // 8)\n",
    "    return matrix[k]\n",
    "\n",
    "def img_to_cat(pixel_cns):\n",
    "    return np.sum(np.sum(pixel_cns, axis=0), axis=0) / (pixel_cns.shape[0] * pixel_cns.shape[1])\n",
    "\n",
    "\n",
    "def get_img_cn(img):\n",
    "    cn = np.zeros((img.shape[0], img.shape[1], 11))\n",
    "    for i in range(img.shape[0]):\n",
    "        for j in range(img.shape[1]):\n",
    "            cn[i][j] = get_pixel_cn(img[i][j])\n",
    "    return cn"
   ]
  },
  {
   "cell_type": "code",
   "execution_count": 4,
   "metadata": {},
   "outputs": [],
   "source": [
    "body_folders = os.listdir('.')\n",
    "body_folders = [_ for _ in body_folders if '_body' in _]"
   ]
  },
  {
   "cell_type": "code",
   "execution_count": 5,
   "metadata": {},
   "outputs": [],
   "source": [
    "import _thread\n",
    "\n",
    "def process(folder_name):\n",
    "    print('start thread')\n",
    "    img_paths = glob.glob(folder_name + '/**/*.jpg', recursive=True)\n",
    "    holder = np.zeros((11,))\n",
    "    for path in img_paths:\n",
    "        img = cv2.imread(path)\n",
    "        cn = get_img_cn(img)\n",
    "        cat = img_to_cat(cn)\n",
    "        holder += cat\n",
    "    holder /= len(img_paths)\n",
    "    print(bf)\n",
    "    print(holder)\n",
    "    return holder"
   ]
  },
  {
   "cell_type": "code",
   "execution_count": 6,
   "metadata": {},
   "outputs": [
    {
     "name": "stdout",
     "output_type": "stream",
     "text": [
      "start thread\n",
      "start thread\n",
      "start thread\n",
      "start thread\n",
      "start threadstart thread\n",
      "start thread\n",
      "start thread\n",
      "start threadstart thread\n",
      "start thread\n",
      "start thread\n",
      "\n",
      "start threadstart thread\n",
      "\n",
      "\n",
      "start thread\n",
      "shooting_body\n",
      "[0.09070977 0.45209135 0.02438024 0.0742276  0.0394926  0.01710272\n",
      " 0.04037114 0.14393375 0.03199146 0.03717404 0.04852532]\n",
      "shooting_body\n",
      "[0.03147046 0.61261187 0.01625265 0.02719862 0.01708911 0.01196722\n",
      " 0.03123764 0.16155222 0.02433477 0.02172002 0.04456543]\n"
     ]
    }
   ],
   "source": [
    "l1 = body_folders[:len(body_folders)//4]\n",
    "l2 = body_folders[len(body_folders)//4: len(body_folders)//2]\n",
    "l3 = body_folders[len(body_folders)//2: len(body_folders)*3//4]\n",
    "l4 = body_folders[len(body_folders)*3//4:]\n",
    "\n",
    "\n",
    "for bf in body_folders:\n",
    "    _thread.start_new_thread(process, (bf,))"
   ]
  },
  {
   "cell_type": "code",
   "execution_count": null,
   "metadata": {},
   "outputs": [],
   "source": []
  }
 ],
 "metadata": {
  "kernelspec": {
   "display_name": "Python 3",
   "language": "python",
   "name": "python3"
  },
  "language_info": {
   "codemirror_mode": {
    "name": "ipython",
    "version": 3
   },
   "file_extension": ".py",
   "mimetype": "text/x-python",
   "name": "python",
   "nbconvert_exporter": "python",
   "pygments_lexer": "ipython3",
   "version": "3.6.5"
  }
 },
 "nbformat": 4,
 "nbformat_minor": 1
}

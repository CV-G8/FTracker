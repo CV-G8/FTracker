{
 "cells": [
  {
   "cell_type": "code",
   "execution_count": 5,
   "metadata": {},
   "outputs": [],
   "source": [
    "import scipy.io\n",
    "import numpy as np\n",
    "import os.path as path\n",
    "import os\n",
    "matrix = scipy.io.loadmat(\"w2c.mat\")['w2c']\n",
    "\n",
    "assert matrix.shape[0] == 32768"
   ]
  },
  {
   "cell_type": "code",
   "execution_count": 4,
   "metadata": {},
   "outputs": [],
   "source": [
    "def get_pixel_cn(pixel):\n",
    "    \"\"\"Return color name for a pixel (default BGR as in OpenCV).\"\"\"\n",
    "\n",
    "    BLUE = 0\n",
    "    GREEN = 1\n",
    "    RED = 2\n",
    "\n",
    "    k = (pixel[RED] // 8) + 32 * (pixel[GREEN] // 8) + 32 * 32 * (pixel[BLUE] // 8)\n",
    "    return matrix[k]\n",
    "\n",
    "\n",
    "def get_img_cn(img):\n",
    "    cn = np.zeros((img.shape[0], img.shape[1], 11))\n",
    "    for i in range(img.shape[0]):\n",
    "        for j in range(img.shape[1]):\n",
    "            cn[i][j] = get_pixel_cn(img[i][j])\n",
    "    return cn"
   ]
  },
  {
   "cell_type": "code",
   "execution_count": null,
   "metadata": {},
   "outputs": [],
   "source": [
    "body_folders = os.listdir('../../')\n",
    "body_folders = [_ for _ in body_folders if 'b']"
   ]
  }
 ],
 "metadata": {
  "kernelspec": {
   "display_name": "Python 3",
   "language": "python",
   "name": "python3"
  },
  "language_info": {
   "codemirror_mode": {
    "name": "ipython",
    "version": 3
   },
   "file_extension": ".py",
   "mimetype": "text/x-python",
   "name": "python",
   "nbconvert_exporter": "python",
   "pygments_lexer": "ipython3",
   "version": "3.6.5"
  }
 },
 "nbformat": 4,
 "nbformat_minor": 1
}
